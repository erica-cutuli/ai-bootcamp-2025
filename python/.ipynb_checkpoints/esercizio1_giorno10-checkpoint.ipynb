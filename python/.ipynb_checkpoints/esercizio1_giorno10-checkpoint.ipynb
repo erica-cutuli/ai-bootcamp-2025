{
 "cells": [
  {
   "cell_type": "code",
   "execution_count": 1,
   "id": "38855577-8f1c-4c4f-8cbe-c3efd5ce30aa",
   "metadata": {},
   "outputs": [],
   "source": [
    "import requests\n",
    "import json\n",
    "import pandas as pd \n",
    "import matplotlib.pyplot as plt"
   ]
  },
  {
   "cell_type": "code",
   "execution_count": 2,
   "id": "e16975c9-5498-4eab-9ecf-6a04f0e8070f",
   "metadata": {
    "scrolled": true
   },
   "outputs": [],
   "source": [
    "# Definiamo l'URL dell'endpoint\n",
    "url = \"https://whiskyhunter.net/api/distilleries_info/\"\n",
    "\n",
    "# Facciamo una richiesta GET all'API e salviamo in JSON\n",
    "response = requests.get(url)\n",
    "distilleries_data = response.json()"
   ]
  },
  {
   "cell_type": "code",
   "execution_count": 3,
   "id": "81bb8583-711c-4c46-b18d-9822b075cdfd",
   "metadata": {},
   "outputs": [
    {
     "data": {
      "text/plain": [
       "[{'name': '8 Doors Distillery',\n",
       "  'slug': '8_doors',\n",
       "  'country': 'Scotland',\n",
       "  'whiskybase_whiskies': '6',\n",
       "  'whiskybase_votes': '11',\n",
       "  'whiskybase_rating': '83.0'},\n",
       " {'name': 'Abbeyhill Distillery',\n",
       "  'slug': 'abbeyhill',\n",
       "  'country': 'Scotland',\n",
       "  'whiskybase_whiskies': '0',\n",
       "  'whiskybase_votes': '0',\n",
       "  'whiskybase_rating': '0.0'},\n",
       " {'name': 'Aberargie Distillery',\n",
       "  'slug': 'aberargie',\n",
       "  'country': 'Scotland',\n",
       "  'whiskybase_whiskies': '1',\n",
       "  'whiskybase_votes': '0',\n",
       "  'whiskybase_rating': '0.0'},\n",
       " {'name': 'Aberfeldy',\n",
       "  'slug': 'aberfeldy',\n",
       "  'country': 'Scotland',\n",
       "  'whiskybase_whiskies': '542',\n",
       "  'whiskybase_votes': '9539',\n",
       "  'whiskybase_rating': '84.28'},\n",
       " {'name': 'Aberlour',\n",
       "  'slug': 'aberlour',\n",
       "  'country': 'Scotland',\n",
       "  'whiskybase_whiskies': '1386',\n",
       "  'whiskybase_votes': '31470',\n",
       "  'whiskybase_rating': '85.09'}]"
      ]
     },
     "execution_count": 3,
     "metadata": {},
     "output_type": "execute_result"
    }
   ],
   "source": [
    "#guardo 5 risultati\n",
    "distilleries_data[:5]"
   ]
  },
  {
   "cell_type": "code",
   "execution_count": 4,
   "id": "c70099be-7aab-4fda-9861-d208fd3ce580",
   "metadata": {},
   "outputs": [
    {
     "data": {
      "text/html": [
       "<div>\n",
       "<style scoped>\n",
       "    .dataframe tbody tr th:only-of-type {\n",
       "        vertical-align: middle;\n",
       "    }\n",
       "\n",
       "    .dataframe tbody tr th {\n",
       "        vertical-align: top;\n",
       "    }\n",
       "\n",
       "    .dataframe thead th {\n",
       "        text-align: right;\n",
       "    }\n",
       "</style>\n",
       "<table border=\"1\" class=\"dataframe\">\n",
       "  <thead>\n",
       "    <tr style=\"text-align: right;\">\n",
       "      <th></th>\n",
       "      <th>name</th>\n",
       "      <th>slug</th>\n",
       "      <th>country</th>\n",
       "      <th>whiskybase_whiskies</th>\n",
       "      <th>whiskybase_votes</th>\n",
       "      <th>whiskybase_rating</th>\n",
       "    </tr>\n",
       "  </thead>\n",
       "  <tbody>\n",
       "    <tr>\n",
       "      <th>0</th>\n",
       "      <td>8 Doors Distillery</td>\n",
       "      <td>8_doors</td>\n",
       "      <td>Scotland</td>\n",
       "      <td>6</td>\n",
       "      <td>11</td>\n",
       "      <td>83.0</td>\n",
       "    </tr>\n",
       "    <tr>\n",
       "      <th>1</th>\n",
       "      <td>Abbeyhill Distillery</td>\n",
       "      <td>abbeyhill</td>\n",
       "      <td>Scotland</td>\n",
       "      <td>0</td>\n",
       "      <td>0</td>\n",
       "      <td>0.0</td>\n",
       "    </tr>\n",
       "    <tr>\n",
       "      <th>2</th>\n",
       "      <td>Aberargie Distillery</td>\n",
       "      <td>aberargie</td>\n",
       "      <td>Scotland</td>\n",
       "      <td>1</td>\n",
       "      <td>0</td>\n",
       "      <td>0.0</td>\n",
       "    </tr>\n",
       "    <tr>\n",
       "      <th>3</th>\n",
       "      <td>Aberfeldy</td>\n",
       "      <td>aberfeldy</td>\n",
       "      <td>Scotland</td>\n",
       "      <td>542</td>\n",
       "      <td>9539</td>\n",
       "      <td>84.28</td>\n",
       "    </tr>\n",
       "    <tr>\n",
       "      <th>4</th>\n",
       "      <td>Aberlour</td>\n",
       "      <td>aberlour</td>\n",
       "      <td>Scotland</td>\n",
       "      <td>1386</td>\n",
       "      <td>31470</td>\n",
       "      <td>85.09</td>\n",
       "    </tr>\n",
       "  </tbody>\n",
       "</table>\n",
       "</div>"
      ],
      "text/plain": [
       "                   name       slug   country whiskybase_whiskies  \\\n",
       "0    8 Doors Distillery    8_doors  Scotland                   6   \n",
       "1  Abbeyhill Distillery  abbeyhill  Scotland                   0   \n",
       "2  Aberargie Distillery  aberargie  Scotland                   1   \n",
       "3             Aberfeldy  aberfeldy  Scotland                 542   \n",
       "4              Aberlour   aberlour  Scotland                1386   \n",
       "\n",
       "  whiskybase_votes whiskybase_rating  \n",
       "0               11              83.0  \n",
       "1                0               0.0  \n",
       "2                0               0.0  \n",
       "3             9539             84.28  \n",
       "4            31470             85.09  "
      ]
     },
     "execution_count": 4,
     "metadata": {},
     "output_type": "execute_result"
    }
   ],
   "source": [
    "# Creiamo un DataFrame Pandas\n",
    "df = pd.DataFrame(distilleries_data)\n",
    "df.head()"
   ]
  },
  {
   "cell_type": "code",
   "execution_count": 5,
   "id": "de6bfb8e-4588-4d36-8399-b3e895d94971",
   "metadata": {},
   "outputs": [
    {
     "name": "stdout",
     "output_type": "stream",
     "text": [
      "<class 'pandas.core.frame.DataFrame'>\n",
      "RangeIndex: 313 entries, 0 to 312\n",
      "Data columns (total 6 columns):\n",
      " #   Column               Non-Null Count  Dtype \n",
      "---  ------               --------------  ----- \n",
      " 0   name                 313 non-null    object\n",
      " 1   slug                 313 non-null    object\n",
      " 2   country              313 non-null    object\n",
      " 3   whiskybase_whiskies  313 non-null    object\n",
      " 4   whiskybase_votes     313 non-null    object\n",
      " 5   whiskybase_rating    313 non-null    object\n",
      "dtypes: object(6)\n",
      "memory usage: 14.8+ KB\n"
     ]
    },
    {
     "data": {
      "text/html": [
       "<div>\n",
       "<style scoped>\n",
       "    .dataframe tbody tr th:only-of-type {\n",
       "        vertical-align: middle;\n",
       "    }\n",
       "\n",
       "    .dataframe tbody tr th {\n",
       "        vertical-align: top;\n",
       "    }\n",
       "\n",
       "    .dataframe thead th {\n",
       "        text-align: right;\n",
       "    }\n",
       "</style>\n",
       "<table border=\"1\" class=\"dataframe\">\n",
       "  <thead>\n",
       "    <tr style=\"text-align: right;\">\n",
       "      <th></th>\n",
       "      <th>name</th>\n",
       "      <th>slug</th>\n",
       "      <th>country</th>\n",
       "      <th>whiskybase_whiskies</th>\n",
       "      <th>whiskybase_votes</th>\n",
       "      <th>whiskybase_rating</th>\n",
       "    </tr>\n",
       "  </thead>\n",
       "  <tbody>\n",
       "    <tr>\n",
       "      <th>count</th>\n",
       "      <td>313</td>\n",
       "      <td>313</td>\n",
       "      <td>313</td>\n",
       "      <td>313</td>\n",
       "      <td>313</td>\n",
       "      <td>313</td>\n",
       "    </tr>\n",
       "    <tr>\n",
       "      <th>unique</th>\n",
       "      <td>313</td>\n",
       "      <td>303</td>\n",
       "      <td>3</td>\n",
       "      <td>182</td>\n",
       "      <td>216</td>\n",
       "      <td>213</td>\n",
       "    </tr>\n",
       "    <tr>\n",
       "      <th>top</th>\n",
       "      <td>Yuza Distillery</td>\n",
       "      <td>daftmill</td>\n",
       "      <td>Scotland</td>\n",
       "      <td>0</td>\n",
       "      <td>0</td>\n",
       "      <td>0.0</td>\n",
       "    </tr>\n",
       "    <tr>\n",
       "      <th>freq</th>\n",
       "      <td>1</td>\n",
       "      <td>2</td>\n",
       "      <td>250</td>\n",
       "      <td>56</td>\n",
       "      <td>69</td>\n",
       "      <td>69</td>\n",
       "    </tr>\n",
       "  </tbody>\n",
       "</table>\n",
       "</div>"
      ],
      "text/plain": [
       "                   name      slug   country whiskybase_whiskies  \\\n",
       "count               313       313       313                 313   \n",
       "unique              313       303         3                 182   \n",
       "top     Yuza Distillery  daftmill  Scotland                   0   \n",
       "freq                  1         2       250                  56   \n",
       "\n",
       "       whiskybase_votes whiskybase_rating  \n",
       "count               313               313  \n",
       "unique              216               213  \n",
       "top                   0               0.0  \n",
       "freq                 69                69  "
      ]
     },
     "execution_count": 5,
     "metadata": {},
     "output_type": "execute_result"
    }
   ],
   "source": [
    "df.info()  # Per vedere le colonne e i tipi di dati\n",
    "df.describe()  # Per statistiche sui dati numerici"
   ]
  },
  {
   "cell_type": "markdown",
   "id": "6a04829c-7b60-47a8-a1dd-67465ba4b2c6",
   "metadata": {},
   "source": [
    "Ho notato che alcune colonne risultano di tipo object invece di float o integer, dunque cambio il tipo per facilitare le analisi."
   ]
  },
  {
   "cell_type": "code",
   "execution_count": 6,
   "id": "833539d3-a5a6-4e86-952e-40cd7f38d0c3",
   "metadata": {},
   "outputs": [
    {
     "name": "stdout",
     "output_type": "stream",
     "text": [
      "name                    object\n",
      "slug                    object\n",
      "country                 object\n",
      "whiskybase_whiskies      int64\n",
      "whiskybase_votes         int64\n",
      "whiskybase_rating      float64\n",
      "dtype: object\n"
     ]
    }
   ],
   "source": [
    "# Convertiamo in integer o float gestendo eventuali errori\n",
    "df[\"whiskybase_rating\"] = pd.to_numeric(df[\"whiskybase_rating\"], errors=\"coerce\")\n",
    "df[\"whiskybase_whiskies\"] = pd.to_numeric(df[\"whiskybase_whiskies\"], errors=\"coerce\")\n",
    "df[\"whiskybase_votes\"] = pd.to_numeric(df[\"whiskybase_votes\"], errors=\"coerce\")\n",
    "\n",
    "# Controlliamo se la conversione è avvenuta con successo\n",
    "print(df.dtypes)"
   ]
  },
  {
   "cell_type": "markdown",
   "id": "e9e0c7dd-7e82-4db7-96ed-30bb9f87f0f6",
   "metadata": {},
   "source": [
    "**#1 Analisi: trovo le distillerie col rating migliore**"
   ]
  },
  {
   "cell_type": "code",
   "execution_count": 7,
   "id": "d6d1d7c3-d3c3-4914-a292-387ad4552507",
   "metadata": {},
   "outputs": [
    {
     "name": "stdout",
     "output_type": "stream",
     "text": [
      "Le 5 ditillerie con il rating più alto sono:\n",
      "1. Ben Wyvis / Ferintosh - Rating: 92.00\n",
      "2. Glenfyne (Glendarroch Glenglip) - Rating: 91.33\n",
      "3. Kawasaki - Rating: 90.04\n",
      "4. Brora - Rating: 89.93\n",
      "5. Glenlochy - Rating: 89.88\n"
     ]
    }
   ],
   "source": [
    "# Ordinare il DataFrame in base al rating in ordine decrescente\n",
    "top_whisky = df.sort_values(by=\"whiskybase_rating\", ascending=False).head(5)\n",
    "\n",
    "# Stampare i nomi dei migliori 3 whisky\n",
    "print(\"Le 5 ditillerie con il rating più alto sono:\")\n",
    "for idx, (i, row) in enumerate(top_whisky.iterrows(), start=1):\n",
    "    print(f\"{idx}. {row['name']} - Rating: {row['whiskybase_rating']:.2f}\")\n"
   ]
  },
  {
   "cell_type": "markdown",
   "id": "b4f63965-5565-4058-97b7-178a29c2fd0c",
   "metadata": {},
   "source": [
    "**#2 Analisi: trovo le distillerie che producono più whiskies**"
   ]
  },
  {
   "cell_type": "code",
   "execution_count": 8,
   "id": "beadd302-e4af-4223-86fb-165bfeb562ac",
   "metadata": {},
   "outputs": [
    {
     "name": "stdout",
     "output_type": "stream",
     "text": [
      "Le 5 ditillerie che producono più whisky sono:\n",
      "1. Caol Ila - N. di whiskies: 6408\n",
      "2. Springbank - N. di whiskies: 5394\n",
      "3. Macallan - N. di whiskies: 4218\n",
      "4. Bruichladdich - N. di whiskies: 4168\n",
      "5. Bunnahabhain - N. di whiskies: 4016\n"
     ]
    }
   ],
   "source": [
    "# Ordinare il DataFrame in base al rating in ordine decrescente\n",
    "top_whisky = df.sort_values(by=\"whiskybase_whiskies\", ascending=False).head(5)\n",
    "\n",
    "# Stampare i nomi dei migliori 3 whisky\n",
    "print(\"Le 5 ditillerie che producono più whisky sono:\")\n",
    "for idx, (i, row) in enumerate(top_whisky.iterrows(), start=1):\n",
    "    print(f\"{idx}. {row['name']} - N. di whiskies: {row['whiskybase_whiskies']}\")"
   ]
  },
  {
   "cell_type": "markdown",
   "id": "c4f4203f-54b6-4493-8f37-9d609f441900",
   "metadata": {},
   "source": [
    "**#3 Analisi: mostro la distribuzione per country in un grafico a torta**"
   ]
  },
  {
   "cell_type": "code",
   "execution_count": 9,
   "id": "695c1edd-c5ff-4afe-bba2-93893a87df43",
   "metadata": {},
   "outputs": [
    {
     "data": {
      "image/png": "[encoded data removed]",
      "text/plain": [
       "<Figure size 800x500 with 1 Axes>"
      ]
     },
     "metadata": {},
     "output_type": "display_data"
    }
   ],
   "source": [
    "# Conto il numero di whisky per paese\n",
    "country_counts = df[\"country\"].value_counts()\n",
    "\n",
    "# Creo il grafico a torta\n",
    "plt.figure(figsize=(8,5))\n",
    "plt.pie(country_counts, labels=country_counts.index, autopct='%1.1f%%')\n",
    "plt.title(\"Distribuzione delle distillerie nel dataset per country\")\n",
    "plt.axis(\"equal\")  # Per rendere il grafico proporzionato\n",
    "plt.show()"
   ]
  },
  {
   "cell_type": "code",
   "execution_count": null,
   "id": "dfa79bd5-1689-4958-a13b-04982596bdc7",
   "metadata": {},
   "outputs": [],
   "source": []
  }
 ],
 "metadata": {
  "kernelspec": {
   "display_name": "Python 3 (ipykernel)",
   "language": "python",
   "name": "python3"
  },
  "language_info": {
   "codemirror_mode": {
    "name": "ipython",
    "version": 3
   },
   "file_extension": ".py",
   "mimetype": "text/x-python",
   "name": "python",
   "nbconvert_exporter": "python",
   "pygments_lexer": "ipython3",
   "version": "3.10.11"
  }
 },
 "nbformat": 4,
 "nbformat_minor": 5
}
